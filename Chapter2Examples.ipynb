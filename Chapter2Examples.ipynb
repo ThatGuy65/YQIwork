{
 "cells": [
  {
   "cell_type": "code",
   "execution_count": 1,
   "metadata": {},
   "outputs": [],
   "source": [
    "#Chapter 2 Examples from \"An Introduction to Quantum Computing\" (Kaye, Leaflamme, Mosca)\n",
    "\n",
    "#Worked with Qutip version 5.0.2 \n",
    "#Numpy\n",
    "#Juptyr Notebook \n",
    "#Scipy 1.13.1 \n",
    "#(and potentially other libraries) \n",
    "\n",
    "#Daequan Peele \n",
    "#June 2024 \n",
    "\n",
    "#Markdown cheat sheet:\n",
    "#![title](images/imagename.png)"
   ]
  },
  {
   "cell_type": "code",
   "execution_count": 2,
   "metadata": {},
   "outputs": [
    {
     "name": "stderr",
     "output_type": "stream",
     "text": [
      "c:\\Python312\\Lib\\site-packages\\qutip\\__init__.py:24: UserWarning: matplotlib not found: Graphics will not work.\n",
      "  warnings.warn(\"matplotlib not found: Graphics will not work.\")\n"
     ]
    }
   ],
   "source": [
    "#imports\n",
    "from qutip import *\n",
    "import numpy as np\n"
   ]
  },
  {
   "cell_type": "code",
   "execution_count": null,
   "metadata": {},
   "outputs": [],
   "source": [
    "#Pauli Twirling\n",
    "#Pauli errors are well studied in qec \n",
    "#easy to simute\n",
    "#coherent errors are poorly studied\n",
    "#hard to sim\n",
    "#many ways to convert from Pauli to Coherent\n",
    "#one method is p twirling \n",
    "#Pauli Twirling is correcting for coherence errors by performing a flip on the qubit \n",
    "#choose to apply x or not probabalistically on an error channel \n",
    "#positve and negative \n"
   ]
  },
  {
   "cell_type": "markdown",
   "metadata": {},
   "source": [
    "![title](images/ex2_1_1.png)"
   ]
  },
  {
   "cell_type": "code",
   "execution_count": 138,
   "metadata": {},
   "outputs": [],
   "source": [
    "#left hand side of the equation\n",
    "lhs = np.sqrt(2/3) * basis(4,1) + (1j/np.sqrt(3)) * basis(4,3)"
   ]
  },
  {
   "cell_type": "code",
   "execution_count": 4,
   "metadata": {},
   "outputs": [
    {
     "data": {
      "text/plain": [
       "True"
      ]
     },
     "execution_count": 4,
     "metadata": {},
     "output_type": "execute_result"
    }
   ],
   "source": [
    "#right hand side of the equation \n",
    "rhs = tensor(np.sqrt(2/3) * basis(2,0), basis(2,1)) + tensor(1j/np.sqrt(3) * basis(2,1), basis(2,1))\n",
    "\n",
    "#prove that lhs and rhs are equal \n",
    "np.allclose(lhs[:],rhs[:])"
   ]
  },
  {
   "cell_type": "code",
   "execution_count": 5,
   "metadata": {},
   "outputs": [],
   "source": [
    "#LHS and RHS are equivalent. "
   ]
  },
  {
   "cell_type": "markdown",
   "metadata": {},
   "source": [
    "![title](images/ex2_2_2.png)"
   ]
  },
  {
   "cell_type": "code",
   "execution_count": 5,
   "metadata": {},
   "outputs": [],
   "source": [
    "#create vectors \n",
    "phi = np.sqrt(2/3) * basis(4,1) + (1j/np.sqrt(3)) * basis(4,3)\n",
    "psi = np.sqrt(1/2) * basis(4,2) + np.sqrt(1/2) * basis(4,3)"
   ]
  },
  {
   "cell_type": "code",
   "execution_count": 7,
   "metadata": {},
   "outputs": [
    {
     "name": "stdout",
     "output_type": "stream",
     "text": [
      "-0.4082482904638631j\n"
     ]
    }
   ],
   "source": [
    "#dot product of |phi>* and |psi> is equal to the inner product of <phi | psi> \n",
    "#|phi>* is the conjugate transpose of column vector |phi> \n",
    "dot_product = phi.trans().conj() * psi \n",
    "print(dot_product)"
   ]
  },
  {
   "cell_type": "code",
   "execution_count": 8,
   "metadata": {},
   "outputs": [
    {
     "name": "stdout",
     "output_type": "stream",
     "text": [
      "-0.4082482904638631j\n"
     ]
    }
   ],
   "source": [
    "#<phi|psi>\n",
    "inner_product = psi.overlap(phi.trans().conj()) \n",
    "print(inner_product)"
   ]
  },
  {
   "cell_type": "code",
   "execution_count": 9,
   "metadata": {},
   "outputs": [
    {
     "data": {
      "text/plain": [
       "True"
      ]
     },
     "execution_count": 9,
     "metadata": {},
     "output_type": "execute_result"
    }
   ],
   "source": [
    "#inner product and dot product of transposed phi are equivalent \n",
    "dot_product == inner_product"
   ]
  },
  {
   "cell_type": "markdown",
   "metadata": {},
   "source": [
    "![title](images/ex2_2_4.png)"
   ]
  },
  {
   "cell_type": "code",
   "execution_count": 10,
   "metadata": {},
   "outputs": [],
   "source": [
    "#Define basis vectors of Hilbert dimension 4 \n",
    "b1 = basis(4,0) # |00>\n",
    "b2 = basis(4,1) # |01>\n",
    "b3 = basis(4,2) # |10>\n",
    "b4 = basis(4,3) # |11>\n",
    "#print(b1, b2, b3, b4)"
   ]
  },
  {
   "cell_type": "code",
   "execution_count": 11,
   "metadata": {},
   "outputs": [
    {
     "name": "stdout",
     "output_type": "stream",
     "text": [
      "-0j -0j -0j -0j -0j -0j\n"
     ]
    }
   ],
   "source": [
    "#inner product check < x | y >\n",
    "ip1 = b1.overlap(b2.trans().conj()) \n",
    "ip2 = b1.overlap(b3.trans().conj()) \n",
    "ip3 = b1.overlap(b4.trans().conj()) \n",
    "\n",
    "ip4 = b4.overlap(b3.trans().conj()) \n",
    "ip5 = b2.overlap(b4.trans().conj())\n",
    "\n",
    "ip6 = b3.overlap(b4.trans().conj()) \n",
    "\n",
    "print(ip1,ip2,ip3,ip4,ip5,ip6) #print inner product of any normal vector"
   ]
  },
  {
   "cell_type": "code",
   "execution_count": 12,
   "metadata": {},
   "outputs": [
    {
     "name": "stdout",
     "output_type": "stream",
     "text": [
      "(1-0j) (1-0j) (1-0j) (1-0j)\n"
     ]
    }
   ],
   "source": [
    "#norm check  \n",
    "#norm is the square root of the inner product of a vector with itself sqrt(< x | x >)\n",
    "n1 = np.sqrt(b1.overlap(b1.trans().conj()))\n",
    "n2 = np.sqrt(b2.overlap(b2.trans().conj())) \n",
    "n3 = np.sqrt(b3.overlap(b3.trans().conj())) \n",
    "n4 = np.sqrt(b4.overlap(b4.trans().conj())) \n",
    "\n",
    "print(n1,n2,n3,n4) #print norms of each basis vector "
   ]
  },
  {
   "cell_type": "code",
   "execution_count": 13,
   "metadata": {},
   "outputs": [],
   "source": [
    "#All inner products of the basis vectors are 0 and all norms of the basis vectors are 1"
   ]
  },
  {
   "cell_type": "markdown",
   "metadata": {},
   "source": [
    "![title](images/ex2_2_5.png)"
   ]
  },
  {
   "cell_type": "code",
   "execution_count": 14,
   "metadata": {},
   "outputs": [
    {
     "data": {
      "text/plain": [
       "-0.4082482904638631j"
      ]
     },
     "execution_count": 14,
     "metadata": {},
     "output_type": "execute_result"
    }
   ],
   "source": [
    "#Equation written in qubit \n",
    "np.sqrt(2/3) * np.sqrt(1/2) * b2.overlap(b3.trans().conj()) \n",
    "\n",
    "+ np.sqrt(2/3) * np.sqrt(1/2) * b2.overlap(b4.trans().conj())\n",
    "\n",
    "+ (-1j/np.sqrt(3)) * np.sqrt(1/2) * b4.overlap(b3.trans().conj()) \n",
    "\n",
    "+ (-1j/np.sqrt(3)) * np.sqrt(1/2) * b4.overlap(b4.trans().conj()) \n",
    "\n",
    "#This equation should equal the dot product (or inner product) obtained from 2.2.2 \n"
   ]
  },
  {
   "cell_type": "code",
   "execution_count": 15,
   "metadata": {},
   "outputs": [
    {
     "name": "stdout",
     "output_type": "stream",
     "text": [
      "-0.4082482904638631j\n"
     ]
    }
   ],
   "source": [
    "print(dot_product)"
   ]
  },
  {
   "cell_type": "markdown",
   "metadata": {},
   "source": [
    "![title](images/ex2_2_6.png)"
   ]
  },
  {
   "cell_type": "code",
   "execution_count": 6,
   "metadata": {},
   "outputs": [
    {
     "data": {
      "text/latex": [
       "Quantum object: dims=[[2], [1]], shape=(2, 1), type='ket', dtype=Dense$$\\left(\\begin{array}{cc}0.707\\\\0.707\\end{array}\\right)$$"
      ],
      "text/plain": [
       "Quantum object: dims=[[2], [1]], shape=(2, 1), type='ket', dtype=Dense\n",
       "Qobj data =\n",
       "[[0.70710678]\n",
       " [0.70710678]]"
      ]
     },
     "execution_count": 6,
     "metadata": {},
     "output_type": "execute_result"
    }
   ],
   "source": [
    "#Hadamard Basis: \n",
    "(1/np.sqrt(2)) * (basis(2,0) + basis(2,1)) # |+> "
   ]
  },
  {
   "cell_type": "code",
   "execution_count": 17,
   "metadata": {},
   "outputs": [
    {
     "data": {
      "text/latex": [
       "Quantum object: dims=[[2], [1]], shape=(2, 1), type='ket', dtype=Dense$$\\left(\\begin{array}{cc}0.707\\\\-0.707\\end{array}\\right)$$"
      ],
      "text/plain": [
       "Quantum object: dims=[[2], [1]], shape=(2, 1), type='ket', dtype=Dense\n",
       "Qobj data =\n",
       "[[ 0.70710678]\n",
       " [-0.70710678]]"
      ]
     },
     "execution_count": 17,
     "metadata": {},
     "output_type": "execute_result"
    }
   ],
   "source": [
    "(1/np.sqrt(2)) * (basis(2,0) - basis(2,1)) # |->"
   ]
  },
  {
   "cell_type": "code",
   "execution_count": 18,
   "metadata": {},
   "outputs": [
    {
     "data": {
      "text/plain": [
       "0j"
      ]
     },
     "execution_count": 18,
     "metadata": {},
     "output_type": "execute_result"
    }
   ],
   "source": [
    "#Normality = < + | - > = 0\n",
    "pos1 = basis(2,0)+basis(2,1) \n",
    "neg1 = basis(2,0)-basis(2,1)\n",
    "\n",
    "(1/2) * pos1.trans().conj() * neg1"
   ]
  },
  {
   "cell_type": "code",
   "execution_count": 19,
   "metadata": {},
   "outputs": [
    {
     "data": {
      "text/plain": [
       "(1+0j)"
      ]
     },
     "execution_count": 19,
     "metadata": {},
     "output_type": "execute_result"
    }
   ],
   "source": [
    "#Orthongonality || | + > || ^ 2 = 1 \n",
    "(1/2) * pos1.trans().conj() * pos1"
   ]
  },
  {
   "cell_type": "markdown",
   "metadata": {},
   "source": [
    "![title](images/ex2_3_3.png)"
   ]
  },
  {
   "cell_type": "code",
   "execution_count": 11,
   "metadata": {},
   "outputs": [
    {
     "data": {
      "text/plain": [
       "True"
      ]
     },
     "execution_count": 11,
     "metadata": {},
     "output_type": "execute_result"
    }
   ],
   "source": [
    "#Create/Implement a Z Pauli Operator \n",
    "zero = basis(2,0)\n",
    "one = basis(2,1) \n",
    "\n",
    "#The conjugate tranpsoe of a matrix is = to the adjoint of a matrix \n",
    "# |0>* = 0.conj().trans() = 0.dag()\n",
    "#adjoint is represented by .dag() (dagger)\n",
    "zero.trans().conj() == zero.dag()"
   ]
  },
  {
   "cell_type": "code",
   "execution_count": 18,
   "metadata": {},
   "outputs": [
    {
     "data": {
      "text/latex": [
       "Quantum object: dims=[[2], [2]], shape=(2, 2), type='oper', dtype=Dense, isherm=True$$\\left(\\begin{array}{cc}1 & 0\\\\0 & 0\\end{array}\\right)$$"
      ],
      "text/plain": [
       "Quantum object: dims=[[2], [2]], shape=(2, 2), type='oper', dtype=Dense, isherm=True\n",
       "Qobj data =\n",
       "[[1. 0.]\n",
       " [0. 0.]]"
      ]
     },
     "execution_count": 18,
     "metadata": {},
     "output_type": "execute_result"
    }
   ],
   "source": [
    "# outer product of the 0 ket \n",
    "zero * zero.dag() # | 0 > < 0 |"
   ]
  },
  {
   "cell_type": "code",
   "execution_count": 22,
   "metadata": {},
   "outputs": [
    {
     "data": {
      "text/plain": [
       "True"
      ]
     },
     "execution_count": 22,
     "metadata": {},
     "output_type": "execute_result"
    }
   ],
   "source": [
    "#difference of the 0 and 1 ket outer product is equal to the z gate\n",
    "sigmaz() == (zero * zero.dag()) - (one * one.dag())"
   ]
  },
  {
   "cell_type": "markdown",
   "metadata": {},
   "source": [
    "![title](images/eq2_3_9png.png)"
   ]
  },
  {
   "cell_type": "code",
   "execution_count": 53,
   "metadata": {},
   "outputs": [
    {
     "data": {
      "text/latex": [
       "Quantum object: dims=[[2], [2]], shape=(2, 2), type='oper', dtype=Dense, isherm=True$$\\left(\\begin{array}{cc}1 & 0\\\\0 & 1\\end{array}\\right)$$"
      ],
      "text/plain": [
       "Quantum object: dims=[[2], [2]], shape=(2, 2), type='oper', dtype=Dense, isherm=True\n",
       "Qobj data =\n",
       "[[1. 0.]\n",
       " [0. 1.]]"
      ]
     },
     "execution_count": 53,
     "metadata": {},
     "output_type": "execute_result"
    }
   ],
   "source": [
    "#the sum of outer products in the same basis is equal to the identity gate. \n",
    "#Hilbert Space 2, 2 Bases \n",
    "zero = basis(2,0) * basis(2,0).dag() # |0> \n",
    "one = basis(2,1) * basis(2,1).dag()  # |1>\n",
    "\n",
    "sum([zero, one]) "
   ]
  },
  {
   "cell_type": "code",
   "execution_count": 55,
   "metadata": {},
   "outputs": [
    {
     "data": {
      "text/latex": [
       "Quantum object: dims=[[2], [2]], shape=(2, 2), type='oper', dtype=Dia, isherm=True$$\\left(\\begin{array}{cc}1 & 0\\\\0 & 1\\end{array}\\right)$$"
      ],
      "text/plain": [
       "Quantum object: dims=[[2], [2]], shape=(2, 2), type='oper', dtype=Dia, isherm=True\n",
       "Qobj data =\n",
       "[[1. 0.]\n",
       " [0. 1.]]"
      ]
     },
     "execution_count": 55,
     "metadata": {},
     "output_type": "execute_result"
    }
   ],
   "source": [
    "\n",
    "#Identity is represented by qeye(N), where N is the number of levels in Hilbert space \n",
    "qeye(2)"
   ]
  },
  {
   "cell_type": "markdown",
   "metadata": {},
   "source": [
    "![title](images/eq2_3_11.png)"
   ]
  },
  {
   "cell_type": "code",
   "execution_count": 72,
   "metadata": {},
   "outputs": [
    {
     "data": {
      "text/plain": [
       "True"
      ]
     },
     "execution_count": 72,
     "metadata": {},
     "output_type": "execute_result"
    }
   ],
   "source": [
    "#T is an operator in some capacity (Pauli, Z, I, Y, etc.)\n",
    "# (<phi| T.dag() |rho>).conj \n",
    "#choose H = 2 and T = Z gate \n",
    "#H* is the dual vector space \n",
    "phi = basis(2,0)\n",
    "rho = basis(2,1) \n",
    "Tdag = sigmaz().dag()\n",
    "\n",
    "Trho = Tdag * rho \n",
    "Tphi = sigmaz() * phi\n",
    "\n",
    "phi.overlap(Trho) == rho.overlap(Tphi)"
   ]
  },
  {
   "cell_type": "markdown",
   "metadata": {},
   "source": [
    "![title](images/def2_3_5.png)"
   ]
  },
  {
   "cell_type": "code",
   "execution_count": 79,
   "metadata": {},
   "outputs": [
    {
     "data": {
      "text/plain": [
       "True"
      ]
     },
     "execution_count": 79,
     "metadata": {},
     "output_type": "execute_result"
    }
   ],
   "source": [
    "#Unitary operators \n",
    "#Inverse of Z operator == the adjunct (dagger) of Z operator \n",
    "sigmaz().inv() == sigmaz().dag() # Z operator is Unitary"
   ]
  },
  {
   "cell_type": "code",
   "execution_count": 84,
   "metadata": {},
   "outputs": [
    {
     "name": "stdout",
     "output_type": "stream",
     "text": [
      "Is X operator Unitary?\n",
      "True\n"
     ]
    },
    {
     "data": {
      "text/latex": [
       "Quantum object: dims=[[2], [2]], shape=(2, 2), type='oper', dtype=CSR, isherm=True$$\\left(\\begin{array}{cc}1 & 0\\\\0 & 1\\end{array}\\right)$$"
      ],
      "text/plain": [
       "Quantum object: dims=[[2], [2]], shape=(2, 2), type='oper', dtype=CSR, isherm=True\n",
       "Qobj data =\n",
       "[[1. 0.]\n",
       " [0. 1.]]"
      ]
     },
     "execution_count": 84,
     "metadata": {},
     "output_type": "execute_result"
    }
   ],
   "source": [
    "print(\"Is X operator Unitary?\") \n",
    "print(sigmax().inv() == sigmax().dag())\n",
    "#Unitary operator's adjunct * itself is equal to the identity operator\n",
    "sigmax().dag() * sigmax()"
   ]
  },
  {
   "cell_type": "markdown",
   "metadata": {},
   "source": [
    "![title](images/def2_3_7.png)"
   ]
  },
  {
   "cell_type": "code",
   "execution_count": null,
   "metadata": {},
   "outputs": [],
   "source": [
    "#Projectors\n",
    "#Following definition: A vector |phi> is called an eigenvector of an operator T if T|phi> = c|phi> for some constant c. The constant c is called the eigenvalue of T corresponding to the eigenvector |phi>. "
   ]
  },
  {
   "cell_type": "code",
   "execution_count": 101,
   "metadata": {},
   "outputs": [
    {
     "name": "stdout",
     "output_type": "stream",
     "text": [
      "Does I^2 == I?\n",
      "True\n",
      "Does I.dag() == I?\n",
      "True\n"
     ]
    }
   ],
   "source": [
    "#choose I as our linear operator \n",
    "I = qeye(2) \n",
    "\n",
    "print(\"Does I^2 == I?\")\n",
    "print(I**2 == I) #Identity operator is a projector on the vector space H = 2\n",
    "print(\"Does I.dag() == I?\")\n",
    "print(I.dag() == I) #Identity operator is an orthogonal projector "
   ]
  },
  {
   "cell_type": "markdown",
   "metadata": {},
   "source": [
    "![title](images/ex2_3_1.png)"
   ]
  },
  {
   "cell_type": "code",
   "execution_count": 152,
   "metadata": {},
   "outputs": [
    {
     "data": {
      "text/latex": [
       "Quantum object: dims=[[3], [3]], shape=(3, 3), type='oper', dtype=Dense, isherm=False$$\\left(\\begin{array}{cc}4 & 5 & 9\\\\3 & 6 & 7\\\\2 & 4 & 1\\end{array}\\right)$$"
      ],
      "text/plain": [
       "Quantum object: dims=[[3], [3]], shape=(3, 3), type='oper', dtype=Dense, isherm=False\n",
       "Qobj data =\n",
       "[[4. 5. 9.]\n",
       " [3. 6. 7.]\n",
       " [2. 4. 1.]]"
      ]
     },
     "execution_count": 152,
     "metadata": {},
     "output_type": "execute_result"
    }
   ],
   "source": [
    "#Tracing \n",
    "#The trace of a square matrix is defined as the sum of the entries on the main diagonal of said matrix. \n",
    "#If A, B, and C are square matrices of the same size, then \n",
    "#Tr(ABC) = Tr(BCA) 'cyclic' \n",
    "a = Qobj([[1,2,8],[2,4,5],[3,7,3]])\n",
    "b = Qobj([[4,5,9],[3,6,7],[2,4,1]]) \n",
    "c = Qobj([[6,0,3],[1,8,9],[5,4,0]])"
   ]
  },
  {
   "cell_type": "code",
   "execution_count": 136,
   "metadata": {},
   "outputs": [
    {
     "name": "stdout",
     "output_type": "stream",
     "text": [
      "Tr(ABC): \n",
      "(1734+0j)\n",
      "Tr(BCA): \n",
      "(1734+0j)\n"
     ]
    }
   ],
   "source": [
    "print(\"Tr(ABC): \") \n",
    "print((a * b * c).tr())\n",
    "\n",
    "print(\"Tr(BCA): \") \n",
    "print((b * c * a).tr())"
   ]
  },
  {
   "cell_type": "code",
   "execution_count": 135,
   "metadata": {},
   "outputs": [
    {
     "data": {
      "text/plain": [
       "True"
      ]
     },
     "execution_count": 135,
     "metadata": {},
     "output_type": "execute_result"
    }
   ],
   "source": [
    "(a * b * c).tr() == (b * c * a).tr()"
   ]
  },
  {
   "cell_type": "code",
   "execution_count": null,
   "metadata": {},
   "outputs": [],
   "source": [
    "#End of notebook for now, will potentially return to tackle the last few problems as time goes on/as needed. \n",
    "\n",
    "#RESULTS: \n",
    "# Increased fluency with Qutip, linear algebra, and quantum gates/states \n",
    "# Adjunct is the congujte transpose of a matrix, more notes pending \n",
    "# "
   ]
  },
  {
   "cell_type": "markdown",
   "metadata": {},
   "source": [
    "![title](images/eq2_5_6.png)"
   ]
  },
  {
   "cell_type": "code",
   "execution_count": 151,
   "metadata": {},
   "outputs": [
    {
     "data": {
      "text/plain": [
       "(-0.7071067811865475+0j)"
      ]
     },
     "execution_count": 151,
     "metadata": {},
     "output_type": "execute_result"
    }
   ],
   "source": [
    "zero = basis(2,0)\n",
    "one = basis(2,1) \n",
    "\n",
    " \n",
    "h = (1/np.sqrt(2)) * Qobj([[1,1],[1,-1]])\n",
    "h.overlap(zero.dag())\n",
    "\n",
    "h.overlap(one.dag())\n"
   ]
  },
  {
   "cell_type": "markdown",
   "metadata": {},
   "source": [
    "![title](images/eq2_6_2_2_6_6.png)"
   ]
  },
  {
   "cell_type": "markdown",
   "metadata": {},
   "source": [
    "![title](images/eq2_6_7_2_6_10.png)"
   ]
  },
  {
   "cell_type": "markdown",
   "metadata": {},
   "source": [
    "![title](images/eq2_8_1_2_8_5.png)"
   ]
  }
 ],
 "metadata": {
  "kernelspec": {
   "display_name": "Python 3",
   "language": "python",
   "name": "python3"
  },
  "language_info": {
   "codemirror_mode": {
    "name": "ipython",
    "version": 3
   },
   "file_extension": ".py",
   "mimetype": "text/x-python",
   "name": "python",
   "nbconvert_exporter": "python",
   "pygments_lexer": "ipython3",
   "version": "3.12.1"
  }
 },
 "nbformat": 4,
 "nbformat_minor": 2
}
