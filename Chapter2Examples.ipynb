{
 "cells": [
  {
   "cell_type": "code",
   "execution_count": null,
   "metadata": {},
   "outputs": [],
   "source": [
    "#Cahpter 2 Examples from \"An Introduction to Quantum Computing\" (Kaye, Leaflamme, Mosca)\n",
    "#Worked with Qutip version 5.0.2 \n",
    "#Numpy \n",
    "#Scipy 1.13.1 \n",
    "#(and potentially other libraries) \n",
    "#Daequan Peele \n",
    "#June 2024 \n",
    "\n",
    "#Lets get it.\n",
    "#![title](images/imagename.png)"
   ]
  },
  {
   "cell_type": "code",
   "execution_count": 6,
   "metadata": {},
   "outputs": [
    {
     "name": "stderr",
     "output_type": "stream",
     "text": [
      "c:\\Python312\\Lib\\site-packages\\qutip\\__init__.py:24: UserWarning: matplotlib not found: Graphics will not work.\n",
      "  warnings.warn(\"matplotlib not found: Graphics will not work.\")\n"
     ]
    }
   ],
   "source": [
    "#imports\n",
    "from qutip import *\n",
    "import numpy as np\n"
   ]
  },
  {
   "cell_type": "markdown",
   "metadata": {},
   "source": [
    "![title](images/ex2_1_1.png)"
   ]
  },
  {
   "cell_type": "code",
   "execution_count": 45,
   "metadata": {},
   "outputs": [],
   "source": [
    "#left hand side of the equation\n",
    "lhs = np.sqrt(2/3) * basis(4,1) + (1j/np.sqrt(3)) * basis(4,3)"
   ]
  },
  {
   "cell_type": "code",
   "execution_count": 46,
   "metadata": {},
   "outputs": [
    {
     "data": {
      "text/plain": [
       "True"
      ]
     },
     "execution_count": 46,
     "metadata": {},
     "output_type": "execute_result"
    }
   ],
   "source": [
    "#right hand side of the equation \n",
    "rhs = tensor(np.sqrt(2/3) * basis(2,0), basis(2,1)) + tensor(1j/np.sqrt(3) * basis(2,1), basis(2,1))\n",
    "\n",
    "#prove that lhs and rhs are equal \n",
    "np.allclose(lhs[:],rhs[:])"
   ]
  },
  {
   "cell_type": "code",
   "execution_count": null,
   "metadata": {},
   "outputs": [],
   "source": [
    "#LHS and RHS are equivalent. "
   ]
  },
  {
   "cell_type": "markdown",
   "metadata": {},
   "source": [
    "![title](images/ex2_2_2.png)"
   ]
  },
  {
   "cell_type": "code",
   "execution_count": 57,
   "metadata": {},
   "outputs": [],
   "source": [
    "#create vectors \n",
    "phi = np.sqrt(2/3) * basis(4,1) + (1j/np.sqrt(3)) * basis(4,3)\n",
    "psi = np.sqrt(1/2) * basis(4,2) + np.sqrt(1/2) * basis(4,3)"
   ]
  },
  {
   "cell_type": "code",
   "execution_count": 71,
   "metadata": {},
   "outputs": [],
   "source": [
    "#dot product of |phi>* and |psi> is equal to the inner product of <phi | psi> \n",
    "#|phi>* is the transpose of column vector |phi> \n",
    "dot_product = phi.trans() * psi"
   ]
  },
  {
   "cell_type": "code",
   "execution_count": 72,
   "metadata": {},
   "outputs": [],
   "source": [
    "#<phi|psi>\n",
    "inner_product = phi.overlap(psi.trans())"
   ]
  },
  {
   "cell_type": "code",
   "execution_count": 73,
   "metadata": {},
   "outputs": [
    {
     "data": {
      "text/plain": [
       "True"
      ]
     },
     "execution_count": 73,
     "metadata": {},
     "output_type": "execute_result"
    }
   ],
   "source": [
    "#inner product and dot product of transposed phi are equivalent \n",
    "dot_product == inner_product"
   ]
  }
 ],
 "metadata": {
  "kernelspec": {
   "display_name": "Python 3",
   "language": "python",
   "name": "python3"
  },
  "language_info": {
   "codemirror_mode": {
    "name": "ipython",
    "version": 3
   },
   "file_extension": ".py",
   "mimetype": "text/x-python",
   "name": "python",
   "nbconvert_exporter": "python",
   "pygments_lexer": "ipython3",
   "version": "3.12.1"
  }
 },
 "nbformat": 4,
 "nbformat_minor": 2
}
