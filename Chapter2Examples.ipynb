{
 "cells": [
  {
   "cell_type": "code",
   "execution_count": 1,
   "metadata": {},
   "outputs": [],
   "source": [
    "#Cahpter 2 Examples from \"An Introduction to Quantum Computing\" (Kaye, Leaflamme, Mosca)\n",
    "#Worked with Qutip version 5.0.2 \n",
    "#Numpy \n",
    "#Scipy 1.13.1 \n",
    "#(and potentially other libraries) \n",
    "#Daequan Peele \n",
    "#June 2024 \n",
    "\n",
    "#Lets get it.\n",
    "#![title](images/imagename.png)"
   ]
  },
  {
   "cell_type": "code",
   "execution_count": 2,
   "metadata": {},
   "outputs": [
    {
     "name": "stderr",
     "output_type": "stream",
     "text": [
      "c:\\Python312\\Lib\\site-packages\\qutip\\__init__.py:24: UserWarning: matplotlib not found: Graphics will not work.\n",
      "  warnings.warn(\"matplotlib not found: Graphics will not work.\")\n"
     ]
    }
   ],
   "source": [
    "#imports\n",
    "from qutip import *\n",
    "import numpy as np\n"
   ]
  },
  {
   "cell_type": "markdown",
   "metadata": {},
   "source": [
    "![title](images/ex2_1_1.png)"
   ]
  },
  {
   "cell_type": "code",
   "execution_count": 3,
   "metadata": {},
   "outputs": [],
   "source": [
    "#left hand side of the equation\n",
    "lhs = np.sqrt(2/3) * basis(4,1) + (1j/np.sqrt(3)) * basis(4,3)"
   ]
  },
  {
   "cell_type": "code",
   "execution_count": 4,
   "metadata": {},
   "outputs": [
    {
     "data": {
      "text/plain": [
       "True"
      ]
     },
     "execution_count": 4,
     "metadata": {},
     "output_type": "execute_result"
    }
   ],
   "source": [
    "#right hand side of the equation \n",
    "rhs = tensor(np.sqrt(2/3) * basis(2,0), basis(2,1)) + tensor(1j/np.sqrt(3) * basis(2,1), basis(2,1))\n",
    "\n",
    "#prove that lhs and rhs are equal \n",
    "np.allclose(lhs[:],rhs[:])"
   ]
  },
  {
   "cell_type": "code",
   "execution_count": 5,
   "metadata": {},
   "outputs": [],
   "source": [
    "#LHS and RHS are equivalent. "
   ]
  },
  {
   "cell_type": "markdown",
   "metadata": {},
   "source": [
    "![title](images/ex2_2_2.png)"
   ]
  },
  {
   "cell_type": "code",
   "execution_count": 5,
   "metadata": {},
   "outputs": [],
   "source": [
    "#create vectors \n",
    "phi = np.sqrt(2/3) * basis(4,1) + (1j/np.sqrt(3)) * basis(4,3)\n",
    "psi = np.sqrt(1/2) * basis(4,2) + np.sqrt(1/2) * basis(4,3)"
   ]
  },
  {
   "cell_type": "code",
   "execution_count": 7,
   "metadata": {},
   "outputs": [
    {
     "name": "stdout",
     "output_type": "stream",
     "text": [
      "-0.4082482904638631j\n"
     ]
    }
   ],
   "source": [
    "#dot product of |phi>* and |psi> is equal to the inner product of <phi | psi> \n",
    "#|phi>* is the conjugate transpose of column vector |phi> \n",
    "dot_product = phi.trans().conj() * psi \n",
    "print(dot_product)"
   ]
  },
  {
   "cell_type": "code",
   "execution_count": 8,
   "metadata": {},
   "outputs": [
    {
     "name": "stdout",
     "output_type": "stream",
     "text": [
      "-0.4082482904638631j\n"
     ]
    }
   ],
   "source": [
    "#<phi|psi>\n",
    "inner_product = psi.overlap(phi.trans().conj()) \n",
    "print(inner_product)"
   ]
  },
  {
   "cell_type": "code",
   "execution_count": 9,
   "metadata": {},
   "outputs": [
    {
     "data": {
      "text/plain": [
       "True"
      ]
     },
     "execution_count": 9,
     "metadata": {},
     "output_type": "execute_result"
    }
   ],
   "source": [
    "#inner product and dot product of transposed phi are equivalent \n",
    "dot_product == inner_product"
   ]
  },
  {
   "cell_type": "markdown",
   "metadata": {},
   "source": [
    "![title](images/ex2_2_4.png)"
   ]
  },
  {
   "cell_type": "code",
   "execution_count": 10,
   "metadata": {},
   "outputs": [],
   "source": [
    "#Define basis vectors of Hilbert dimension 4 \n",
    "b1 = basis(4,0) # |00>\n",
    "b2 = basis(4,1) # |01>\n",
    "b3 = basis(4,2) # |10>\n",
    "b4 = basis(4,3) # |11>\n",
    "#print(b1, b2, b3, b4)"
   ]
  },
  {
   "cell_type": "code",
   "execution_count": 11,
   "metadata": {},
   "outputs": [
    {
     "name": "stdout",
     "output_type": "stream",
     "text": [
      "-0j -0j -0j -0j -0j -0j\n"
     ]
    }
   ],
   "source": [
    "#inner product check < x | y >\n",
    "ip1 = b1.overlap(b2.trans().conj()) \n",
    "ip2 = b1.overlap(b3.trans().conj()) \n",
    "ip3 = b1.overlap(b4.trans().conj()) \n",
    "\n",
    "ip4 = b4.overlap(b3.trans().conj()) \n",
    "ip5 = b2.overlap(b4.trans().conj())\n",
    "\n",
    "ip6 = b3.overlap(b4.trans().conj()) \n",
    "\n",
    "print(ip1,ip2,ip3,ip4,ip5,ip6) #print inner product of any normal vector"
   ]
  },
  {
   "cell_type": "code",
   "execution_count": 12,
   "metadata": {},
   "outputs": [
    {
     "name": "stdout",
     "output_type": "stream",
     "text": [
      "(1-0j) (1-0j) (1-0j) (1-0j)\n"
     ]
    }
   ],
   "source": [
    "#norm check  \n",
    "#norm is the square root of the inner product of a vector with itself sqrt(< x | x >)\n",
    "n1 = np.sqrt(b1.overlap(b1.trans().conj()))\n",
    "n2 = np.sqrt(b2.overlap(b2.trans().conj())) \n",
    "n3 = np.sqrt(b3.overlap(b3.trans().conj())) \n",
    "n4 = np.sqrt(b4.overlap(b4.trans().conj())) \n",
    "\n",
    "print(n1,n2,n3,n4) #print norms of each basis vector "
   ]
  },
  {
   "cell_type": "code",
   "execution_count": 13,
   "metadata": {},
   "outputs": [],
   "source": [
    "#All inner products of the basis vectors are 0 and all norms of the basis vectors are 1"
   ]
  },
  {
   "cell_type": "markdown",
   "metadata": {},
   "source": [
    "![title](images/ex2_2_5.png)"
   ]
  },
  {
   "cell_type": "code",
   "execution_count": 14,
   "metadata": {},
   "outputs": [
    {
     "data": {
      "text/plain": [
       "-0.4082482904638631j"
      ]
     },
     "execution_count": 14,
     "metadata": {},
     "output_type": "execute_result"
    }
   ],
   "source": [
    "#Equation written in qubit \n",
    "np.sqrt(2/3) * np.sqrt(1/2) * b2.overlap(b3.trans().conj()) \n",
    "\n",
    "+ np.sqrt(2/3) * np.sqrt(1/2) * b2.overlap(b4.trans().conj())\n",
    "\n",
    "+ (-1j/np.sqrt(3)) * np.sqrt(1/2) * b4.overlap(b3.trans().conj()) \n",
    "\n",
    "+ (-1j/np.sqrt(3)) * np.sqrt(1/2) * b4.overlap(b4.trans().conj()) \n",
    "\n",
    "#This equation should equal the dot product (or inner product) obtained from 2.2.2 \n"
   ]
  },
  {
   "cell_type": "code",
   "execution_count": 15,
   "metadata": {},
   "outputs": [
    {
     "name": "stdout",
     "output_type": "stream",
     "text": [
      "-0.4082482904638631j\n"
     ]
    }
   ],
   "source": [
    "print(dot_product)"
   ]
  },
  {
   "cell_type": "markdown",
   "metadata": {},
   "source": [
    "![title](images/ex2_2_6.png)"
   ]
  },
  {
   "cell_type": "code",
   "execution_count": 6,
   "metadata": {},
   "outputs": [
    {
     "data": {
      "text/latex": [
       "Quantum object: dims=[[2], [1]], shape=(2, 1), type='ket', dtype=Dense$$\\left(\\begin{array}{cc}0.707\\\\0.707\\end{array}\\right)$$"
      ],
      "text/plain": [
       "Quantum object: dims=[[2], [1]], shape=(2, 1), type='ket', dtype=Dense\n",
       "Qobj data =\n",
       "[[0.70710678]\n",
       " [0.70710678]]"
      ]
     },
     "execution_count": 6,
     "metadata": {},
     "output_type": "execute_result"
    }
   ],
   "source": [
    "#Hadamard Basis: \n",
    "(1/np.sqrt(2)) * (basis(2,0) + basis(2,1)) # |+> "
   ]
  },
  {
   "cell_type": "code",
   "execution_count": 17,
   "metadata": {},
   "outputs": [
    {
     "data": {
      "text/latex": [
       "Quantum object: dims=[[2], [1]], shape=(2, 1), type='ket', dtype=Dense$$\\left(\\begin{array}{cc}0.707\\\\-0.707\\end{array}\\right)$$"
      ],
      "text/plain": [
       "Quantum object: dims=[[2], [1]], shape=(2, 1), type='ket', dtype=Dense\n",
       "Qobj data =\n",
       "[[ 0.70710678]\n",
       " [-0.70710678]]"
      ]
     },
     "execution_count": 17,
     "metadata": {},
     "output_type": "execute_result"
    }
   ],
   "source": [
    "(1/np.sqrt(2)) * (basis(2,0) - basis(2,1)) # |->"
   ]
  },
  {
   "cell_type": "code",
   "execution_count": 18,
   "metadata": {},
   "outputs": [
    {
     "data": {
      "text/plain": [
       "0j"
      ]
     },
     "execution_count": 18,
     "metadata": {},
     "output_type": "execute_result"
    }
   ],
   "source": [
    "#Normality = < + | - > = 0\n",
    "pos1 = basis(2,0)+basis(2,1) \n",
    "neg1 = basis(2,0)-basis(2,1)\n",
    "\n",
    "(1/2) * pos1.trans().conj() * neg1"
   ]
  },
  {
   "cell_type": "code",
   "execution_count": 19,
   "metadata": {},
   "outputs": [
    {
     "data": {
      "text/plain": [
       "(1+0j)"
      ]
     },
     "execution_count": 19,
     "metadata": {},
     "output_type": "execute_result"
    }
   ],
   "source": [
    "#Orthongonality || | + > || ^ 2 = 1 \n",
    "(1/2) * pos1.trans().conj() * pos1"
   ]
  },
  {
   "cell_type": "markdown",
   "metadata": {},
   "source": [
    "![title](images/ex2_3_3.png)"
   ]
  },
  {
   "cell_type": "code",
   "execution_count": 11,
   "metadata": {},
   "outputs": [
    {
     "data": {
      "text/plain": [
       "True"
      ]
     },
     "execution_count": 11,
     "metadata": {},
     "output_type": "execute_result"
    }
   ],
   "source": [
    "#Create/Implement a Z Pauli Operator \n",
    "zero = basis(2,0)\n",
    "one = basis(2,1) \n",
    "\n",
    "#The conjugate tranpsoe of a matrix is = to the adjoint of a matrix\n",
    "zero.trans().conj() == zero.dag()"
   ]
  },
  {
   "cell_type": "code",
   "execution_count": 18,
   "metadata": {},
   "outputs": [
    {
     "data": {
      "text/latex": [
       "Quantum object: dims=[[2], [2]], shape=(2, 2), type='oper', dtype=Dense, isherm=True$$\\left(\\begin{array}{cc}1 & 0\\\\0 & 0\\end{array}\\right)$$"
      ],
      "text/plain": [
       "Quantum object: dims=[[2], [2]], shape=(2, 2), type='oper', dtype=Dense, isherm=True\n",
       "Qobj data =\n",
       "[[1. 0.]\n",
       " [0. 0.]]"
      ]
     },
     "execution_count": 18,
     "metadata": {},
     "output_type": "execute_result"
    }
   ],
   "source": [
    "# outer product of the 0 ket \n",
    "zero * zero.dag() # | 0 > < 0 |"
   ]
  },
  {
   "cell_type": "code",
   "execution_count": 22,
   "metadata": {},
   "outputs": [
    {
     "data": {
      "text/plain": [
       "True"
      ]
     },
     "execution_count": 22,
     "metadata": {},
     "output_type": "execute_result"
    }
   ],
   "source": [
    "#difference of the 0 and 1 ket outer product is equal to the z gate\n",
    "sigmaz() == (zero * zero.dag()) - (one * one.dag())"
   ]
  },
  {
   "cell_type": "markdown",
   "metadata": {},
   "source": [
    "![title](images/eq2_3_9png.png)"
   ]
  },
  {
   "cell_type": "code",
   "execution_count": null,
   "metadata": {},
   "outputs": [],
   "source": [
    "#the sum of outer products in the same basis is equal to one. \n",
    "one \n",
    "two \n",
    "three \n",
    "F\n"
   ]
  },
  {
   "cell_type": "markdown",
   "metadata": {},
   "source": [
    "![title](images/eq2_3_11.png)"
   ]
  },
  {
   "cell_type": "markdown",
   "metadata": {},
   "source": [
    "![title](images/def2_3_5.png)"
   ]
  },
  {
   "cell_type": "markdown",
   "metadata": {},
   "source": [
    "![title](images/def2_3_7.png)"
   ]
  },
  {
   "cell_type": "markdown",
   "metadata": {},
   "source": [
    "![title](images/ex2_3_1.png)"
   ]
  },
  {
   "cell_type": "markdown",
   "metadata": {},
   "source": [
    "![title](images/eq2_5_6.png)"
   ]
  },
  {
   "cell_type": "markdown",
   "metadata": {},
   "source": [
    "![title](images/eq2_6_2_2_6_6.png)"
   ]
  },
  {
   "cell_type": "markdown",
   "metadata": {},
   "source": [
    "![title](images/eq2_6_7_2_6_10.png)"
   ]
  },
  {
   "cell_type": "markdown",
   "metadata": {},
   "source": [
    "![title](images/eq2_8_1_2_8_5.png)"
   ]
  }
 ],
 "metadata": {
  "kernelspec": {
   "display_name": "Python 3",
   "language": "python",
   "name": "python3"
  },
  "language_info": {
   "codemirror_mode": {
    "name": "ipython",
    "version": 3
   },
   "file_extension": ".py",
   "mimetype": "text/x-python",
   "name": "python",
   "nbconvert_exporter": "python",
   "pygments_lexer": "ipython3",
   "version": "3.12.1"
  }
 },
 "nbformat": 4,
 "nbformat_minor": 2
}
