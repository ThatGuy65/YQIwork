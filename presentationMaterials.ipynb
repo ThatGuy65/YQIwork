{
 "cells": [
  {
   "cell_type": "markdown",
   "metadata": {},
   "source": [
    "$$\\hat{\\rho'} = \\frac{1}{4}\\sum_{P=I/X/Y/Z}\\hat{P}\\hat{\\rho}P^{\\dag}"
   ]
  },
  {
   "cell_type": "markdown",
   "metadata": {},
   "source": [
    "$$\\hat{\\rho'} = \\frac{1}{4}\\sum_{P=I/X/Y/Z}\\hat{\\varepsilon}\\hat{P}\\hat{\\rho}P^{\\dag}\\hat{\\varepsilon}^{\\dag}"
   ]
  },
  {
   "cell_type": "markdown",
   "metadata": {},
   "source": [
    "$$\\hat{\\rho'} = \\frac{1}{4}\\sum_{P=I/X/Y/Z}\\hat{P}\\hat{\\varepsilon}\\hat{P}\\hat{\\rho}P^{\\dag}\\hat{\\varepsilon}^{\\dag}P^{\\dag}"
   ]
  },
  {
   "cell_type": "markdown",
   "metadata": {},
   "source": [
    "Where $\\hat{\\varepsilon} = a\\hat{I} + b\\hat{X} + c\\hat{Y} + d\\hat{Z}$"
   ]
  },
  {
   "cell_type": "markdown",
   "metadata": {},
   "source": [
    "$$\n",
    "\\hat{\\rho'} = \\frac{1}{2}\\hat{I}{(a\\hat{I}+d\\hat{Z})}\\hat{I}\\hat{\\rho}\\hat{I}{(a\\hat{I}+d\\hat{Z})}^\\dag\\hat{I} + \\frac{1}{2}\\hat{X}{(a\\hat{I}+d\\hat{Z})}\\hat{X}\\hat{\\rho}\\hat{X}{(a\\hat{I}+d\\hat{Z})}^\\dag\\hat{X}"
   ]
  },
  {
   "cell_type": "markdown",
   "metadata": {},
   "source": [
    "$$\n",
    "\\hat{\\rho'} = \\frac{2{(|a|^2\\hat{I}\\hat{\\rho}\\hat{I})} + 2{(|d|^2\\hat{Z}\\hat{\\rho}\\hat{Z})}}{2}"
   ]
  },
  {
   "cell_type": "markdown",
   "metadata": {},
   "source": [
    "$$\n",
    "\\hat{\\rho'} = |a|^2\\hat{I}\\hat{\\rho}\\hat{I} +|b|^2\\hat{X}\\hat{\\rho}\\hat{X} + |c|^2\\hat{Y}\\hat{\\rho}\\hat{Y} + |d|^2\\hat{Z}\\hat{\\rho}\\hat{Z}"
   ]
  },
  {
   "cell_type": "markdown",
   "metadata": {},
   "source": [
    "$|a|^2$ and $|d|^2$ are the probabilities that an $\\hat{I}$ or $\\hat{X}$ is chosen in order to twirl a coherent error."
   ]
  },
  {
   "cell_type": "markdown",
   "metadata": {},
   "source": [
    "$$ \n",
    "\\hat{\\rho} = |\\psi\\rangle\\langle\\psi|"
   ]
  },
  {
   "cell_type": "markdown",
   "metadata": {},
   "source": [
    "Ensemble $\\{|\\psi_i\\rangle, p_i\\}$"
   ]
  },
  {
   "cell_type": "markdown",
   "metadata": {},
   "source": [
    "$$\\hat{\\rho} = \\sum_{i}p_i|\\psi_i\\rangle\\langle\\psi_i|"
   ]
  },
  {
   "cell_type": "markdown",
   "metadata": {},
   "source": [
    "$$\n",
    "\\hat{\\rho} =\\frac{1}{2}|0\\rangle\\langle0| +\\frac{1}{2}|1\\rangle\\langle1| = \\begin{pmatrix} 0.5 & 0 \\\\ 0 & 0.5\n",
    "\\end{pmatrix}"
   ]
  },
  {
   "cell_type": "markdown",
   "metadata": {},
   "source": [
    "$$\n",
    "\\hat{\\rho} \\to \\hat{O}\\hat{\\rho}\\hat{O}^\\dag"
   ]
  },
  {
   "cell_type": "markdown",
   "metadata": {},
   "source": []
  },
  {
   "cell_type": "markdown",
   "metadata": {},
   "source": [
    "$$\n",
    "1"
   ]
  },
  {
   "cell_type": "markdown",
   "metadata": {},
   "source": [
    "$$\n",
    "I/Z "
   ]
  },
  {
   "cell_type": "markdown",
   "metadata": {},
   "source": [
    "$\\hat{X}|\\psi\\rangle$ or $\\hat{I}|\\psi\\rangle$\n"
   ]
  },
  {
   "cell_type": "markdown",
   "metadata": {},
   "source": [
    "$\\hat{\\varepsilon}$"
   ]
  },
  {
   "cell_type": "markdown",
   "metadata": {},
   "source": [
    "$|+\\rangle$"
   ]
  },
  {
   "cell_type": "markdown",
   "metadata": {},
   "source": [
    "$$\n",
    "Fidelity = |\\frac{1}{2}Tr(\\hat{U})|^2"
   ]
  },
  {
   "cell_type": "markdown",
   "metadata": {},
   "source": [
    "$$\n",
    "Px = sin^2(\\frac{\\pi}{32})\n"
   ]
  },
  {
   "cell_type": "markdown",
   "metadata": {},
   "source": [
    "$$\n",
    "Pi = 1 - Px"
   ]
  },
  {
   "cell_type": "markdown",
   "metadata": {},
   "source": [
    "$$\n",
    "\\hat{\\varepsilon} = e^{i(\\frac{\\pi}{32})(\\hat{X})}"
   ]
  }
 ],
 "metadata": {
  "language_info": {
   "name": "python"
  }
 },
 "nbformat": 4,
 "nbformat_minor": 2
}
